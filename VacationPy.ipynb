{
 "cells": [
  {
   "cell_type": "markdown",
   "metadata": {},
   "source": [
    "# VacationPy\n",
    "----\n",
    "\n",
    "#### Note\n",
    "* Instructions have been included for each segment. You do not have to follow them exactly, but they are included to help you think through the steps."
   ]
  },
  {
   "cell_type": "code",
   "execution_count": 1,
   "metadata": {},
   "outputs": [],
   "source": [
    "# Dependencies and Setup\n",
    "import matplotlib.pyplot as plt\n",
    "import pandas as pd\n",
    "import numpy as np\n",
    "import requests\n",
    "import gmaps\n",
    "import os\n",
    "\n",
    "# Import API key\n",
    "from api_keys import g_key\n"
   ]
  },
  {
   "cell_type": "markdown",
   "metadata": {},
   "source": [
    "### Store Part I results into DataFrame\n",
    "* Load the csv exported in Part I to a DataFrame"
   ]
  },
  {
   "cell_type": "code",
   "execution_count": 2,
   "metadata": {},
   "outputs": [
    {
     "name": "stdout",
     "output_type": "stream",
     "text": [
      "540\n"
     ]
    },
    {
     "data": {
      "text/html": [
       "<div>\n",
       "<style scoped>\n",
       "    .dataframe tbody tr th:only-of-type {\n",
       "        vertical-align: middle;\n",
       "    }\n",
       "\n",
       "    .dataframe tbody tr th {\n",
       "        vertical-align: top;\n",
       "    }\n",
       "\n",
       "    .dataframe thead th {\n",
       "        text-align: right;\n",
       "    }\n",
       "</style>\n",
       "<table border=\"1\" class=\"dataframe\">\n",
       "  <thead>\n",
       "    <tr style=\"text-align: right;\">\n",
       "      <th></th>\n",
       "      <th>City</th>\n",
       "      <th>Cloudiness</th>\n",
       "      <th>Country</th>\n",
       "      <th>Date</th>\n",
       "      <th>Humidity</th>\n",
       "      <th>Lat</th>\n",
       "      <th>Lng</th>\n",
       "      <th>Max Temp</th>\n",
       "      <th>Wind Speed</th>\n",
       "    </tr>\n",
       "  </thead>\n",
       "  <tbody>\n",
       "    <tr>\n",
       "      <td>0</td>\n",
       "      <td>Nicoya</td>\n",
       "      <td>20</td>\n",
       "      <td>CR</td>\n",
       "      <td>1583973964</td>\n",
       "      <td>58</td>\n",
       "      <td>10.15</td>\n",
       "      <td>-85.45</td>\n",
       "      <td>84.20</td>\n",
       "      <td>18.34</td>\n",
       "    </tr>\n",
       "    <tr>\n",
       "      <td>1</td>\n",
       "      <td>Port Elizabeth</td>\n",
       "      <td>90</td>\n",
       "      <td>ZA</td>\n",
       "      <td>1583973904</td>\n",
       "      <td>88</td>\n",
       "      <td>-33.92</td>\n",
       "      <td>25.57</td>\n",
       "      <td>68.00</td>\n",
       "      <td>11.41</td>\n",
       "    </tr>\n",
       "    <tr>\n",
       "      <td>2</td>\n",
       "      <td>Leningradskiy</td>\n",
       "      <td>63</td>\n",
       "      <td>RU</td>\n",
       "      <td>1583973441</td>\n",
       "      <td>78</td>\n",
       "      <td>69.38</td>\n",
       "      <td>178.42</td>\n",
       "      <td>-8.52</td>\n",
       "      <td>12.17</td>\n",
       "    </tr>\n",
       "    <tr>\n",
       "      <td>3</td>\n",
       "      <td>Fortuna</td>\n",
       "      <td>1</td>\n",
       "      <td>US</td>\n",
       "      <td>1583974003</td>\n",
       "      <td>76</td>\n",
       "      <td>40.60</td>\n",
       "      <td>-124.16</td>\n",
       "      <td>57.00</td>\n",
       "      <td>14.99</td>\n",
       "    </tr>\n",
       "    <tr>\n",
       "      <td>4</td>\n",
       "      <td>Hirado</td>\n",
       "      <td>10</td>\n",
       "      <td>JP</td>\n",
       "      <td>1583974005</td>\n",
       "      <td>57</td>\n",
       "      <td>33.36</td>\n",
       "      <td>129.55</td>\n",
       "      <td>51.80</td>\n",
       "      <td>2.24</td>\n",
       "    </tr>\n",
       "  </tbody>\n",
       "</table>\n",
       "</div>"
      ],
      "text/plain": [
       "             City  Cloudiness Country        Date  Humidity    Lat     Lng  \\\n",
       "0          Nicoya          20      CR  1583973964        58  10.15  -85.45   \n",
       "1  Port Elizabeth          90      ZA  1583973904        88 -33.92   25.57   \n",
       "2   Leningradskiy          63      RU  1583973441        78  69.38  178.42   \n",
       "3         Fortuna           1      US  1583974003        76  40.60 -124.16   \n",
       "4          Hirado          10      JP  1583974005        57  33.36  129.55   \n",
       "\n",
       "   Max Temp  Wind Speed  \n",
       "0     84.20       18.34  \n",
       "1     68.00       11.41  \n",
       "2     -8.52       12.17  \n",
       "3     57.00       14.99  \n",
       "4     51.80        2.24  "
      ]
     },
     "execution_count": 2,
     "metadata": {},
     "output_type": "execute_result"
    }
   ],
   "source": [
    "# Create a Data Frame that loads the csv file exported in Part One\n",
    "my_cities_df = pd.read_csv(\"Output/City_Data_Farenheit.csv\", encoding=\"utf-8\")\n",
    "\n",
    "# Print the number of rows in the DataFrame (just to check that it matches the rows exported to the csv file in Part One)\n",
    "print(len(my_cities_df))\n",
    "\n",
    "# Display the first 5 rows of the DataFrame\n",
    "my_cities_df.head()\n"
   ]
  },
  {
   "cell_type": "markdown",
   "metadata": {},
   "source": [
    "### Humidity Heatmap\n",
    "* Configure gmaps.\n",
    "* Use the Lat and Lng as locations and Humidity as the weight.\n",
    "* Add Heatmap layer to map."
   ]
  },
  {
   "cell_type": "code",
   "execution_count": 3,
   "metadata": {},
   "outputs": [
    {
     "data": {
      "application/vnd.jupyter.widget-view+json": {
       "model_id": "447c29e97ad2470a8e562fbec5ff6ee0",
       "version_major": 2,
       "version_minor": 0
      },
      "text/plain": [
       "Figure(layout=FigureLayout(height='420px'))"
      ]
     },
     "metadata": {},
     "output_type": "display_data"
    }
   ],
   "source": [
    "# Configure gmaps\n",
    "gmaps.configure(api_key=g_key)\n",
    "\n",
    "# Create a DataFrame called locations\n",
    "locations = my_cities_df[[\"Lat\", \"Lng\"]]\n",
    "\n",
    "# Create a DataFrame called humidity\n",
    "humidity = my_cities_df[\"Humidity\"].astype(float)\n",
    "\n",
    "# Create a variable called for the max humidity\n",
    "max_humidity = humidity.max()\n",
    "\n",
    "# Plot Heatmap\n",
    "fig = gmaps.figure()\n",
    "\n",
    "# Create heat layer\n",
    "heat_layer = gmaps.heatmap_layer(locations, weights=humidity, dissipating=False, max_intensity=max_humidity, point_radius=4)\n",
    "\n",
    "# Add layer\n",
    "fig.add_layer(heat_layer)\n",
    "\n",
    "# Display figure\n",
    "fig\n"
   ]
  },
  {
   "cell_type": "code",
   "execution_count": null,
   "metadata": {},
   "outputs": [],
   "source": [
    "\n"
   ]
  },
  {
   "cell_type": "markdown",
   "metadata": {},
   "source": [
    "### Create new DataFrame fitting weather criteria\n",
    "* Narrow down the cities to fit weather conditions.\n",
    "* Drop any rows will null values."
   ]
  },
  {
   "cell_type": "code",
   "execution_count": 4,
   "metadata": {},
   "outputs": [
    {
     "name": "stdout",
     "output_type": "stream",
     "text": [
      "12\n"
     ]
    },
    {
     "data": {
      "text/html": [
       "<div>\n",
       "<style scoped>\n",
       "    .dataframe tbody tr th:only-of-type {\n",
       "        vertical-align: middle;\n",
       "    }\n",
       "\n",
       "    .dataframe tbody tr th {\n",
       "        vertical-align: top;\n",
       "    }\n",
       "\n",
       "    .dataframe thead th {\n",
       "        text-align: right;\n",
       "    }\n",
       "</style>\n",
       "<table border=\"1\" class=\"dataframe\">\n",
       "  <thead>\n",
       "    <tr style=\"text-align: right;\">\n",
       "      <th></th>\n",
       "      <th>City</th>\n",
       "      <th>Cloudiness</th>\n",
       "      <th>Country</th>\n",
       "      <th>Date</th>\n",
       "      <th>Humidity</th>\n",
       "      <th>Lat</th>\n",
       "      <th>Lng</th>\n",
       "      <th>Max Temp</th>\n",
       "      <th>Wind Speed</th>\n",
       "    </tr>\n",
       "  </thead>\n",
       "  <tbody>\n",
       "    <tr>\n",
       "      <td>0</td>\n",
       "      <td>Itararé</td>\n",
       "      <td>0</td>\n",
       "      <td>BR</td>\n",
       "      <td>1583974115</td>\n",
       "      <td>91</td>\n",
       "      <td>-24.11</td>\n",
       "      <td>-49.33</td>\n",
       "      <td>72.00</td>\n",
       "      <td>5.99</td>\n",
       "    </tr>\n",
       "    <tr>\n",
       "      <td>1</td>\n",
       "      <td>Inhambane</td>\n",
       "      <td>0</td>\n",
       "      <td>MZ</td>\n",
       "      <td>1583974212</td>\n",
       "      <td>76</td>\n",
       "      <td>-23.86</td>\n",
       "      <td>35.38</td>\n",
       "      <td>77.40</td>\n",
       "      <td>6.44</td>\n",
       "    </tr>\n",
       "    <tr>\n",
       "      <td>2</td>\n",
       "      <td>Quang Ngai</td>\n",
       "      <td>0</td>\n",
       "      <td>VN</td>\n",
       "      <td>1583974223</td>\n",
       "      <td>79</td>\n",
       "      <td>15.12</td>\n",
       "      <td>108.80</td>\n",
       "      <td>74.39</td>\n",
       "      <td>4.85</td>\n",
       "    </tr>\n",
       "    <tr>\n",
       "      <td>3</td>\n",
       "      <td>Beloha</td>\n",
       "      <td>0</td>\n",
       "      <td>MG</td>\n",
       "      <td>1583974410</td>\n",
       "      <td>92</td>\n",
       "      <td>-25.17</td>\n",
       "      <td>45.05</td>\n",
       "      <td>70.30</td>\n",
       "      <td>6.87</td>\n",
       "    </tr>\n",
       "    <tr>\n",
       "      <td>4</td>\n",
       "      <td>Phayuha Khiri</td>\n",
       "      <td>0</td>\n",
       "      <td>TH</td>\n",
       "      <td>1583974447</td>\n",
       "      <td>68</td>\n",
       "      <td>15.46</td>\n",
       "      <td>100.14</td>\n",
       "      <td>79.03</td>\n",
       "      <td>7.54</td>\n",
       "    </tr>\n",
       "  </tbody>\n",
       "</table>\n",
       "</div>"
      ],
      "text/plain": [
       "            City  Cloudiness Country        Date  Humidity    Lat     Lng  \\\n",
       "0        Itararé           0      BR  1583974115        91 -24.11  -49.33   \n",
       "1      Inhambane           0      MZ  1583974212        76 -23.86   35.38   \n",
       "2     Quang Ngai           0      VN  1583974223        79  15.12  108.80   \n",
       "3         Beloha           0      MG  1583974410        92 -25.17   45.05   \n",
       "4  Phayuha Khiri           0      TH  1583974447        68  15.46  100.14   \n",
       "\n",
       "   Max Temp  Wind Speed  \n",
       "0     72.00        5.99  \n",
       "1     77.40        6.44  \n",
       "2     74.39        4.85  \n",
       "3     70.30        6.87  \n",
       "4     79.03        7.54  "
      ]
     },
     "execution_count": 4,
     "metadata": {},
     "output_type": "execute_result"
    }
   ],
   "source": [
    "# Create a Data Frame for cities with good weather based on our criteria\n",
    "my_good_weather_cities_df = my_cities_df.loc[(my_cities_df[\"Max Temp\"] > 70) & (my_cities_df[\"Max Temp\"] < 80) & (my_cities_df[\"Cloudiness\"] == 0) & (my_cities_df[\"Wind Speed\"] < 10), :]\n",
    "\n",
    "# Drop any rows that do not meet all of our criteria for good weather\n",
    "my_good_weather_cities_df = my_good_weather_cities_df.dropna(how='any')\n",
    "\n",
    "# Reset the index for the Data Frame\n",
    "my_good_weather_cities_df.reset_index(inplace=True)\n",
    "\n",
    "# Delete the old Index\n",
    "del my_good_weather_cities_df['index']\n",
    "\n",
    "# Check the number of rows in the DataFrame\n",
    "print(len(my_good_weather_cities_df))\n",
    "\n",
    "# Dispaly the top 5 rows of the DataFrame\n",
    "my_good_weather_cities_df.head()\n"
   ]
  },
  {
   "cell_type": "markdown",
   "metadata": {},
   "source": [
    "### Hotel Map\n",
    "* Store into variable named `hotel_df`.\n",
    "* Add a \"Hotel Name\" column to the DataFrame.\n",
    "* Set parameters to search for hotels with 5000 meters.\n",
    "* Hit the Google Places API for each city's coordinates.\n",
    "* Store the first Hotel result into the DataFrame.\n",
    "* Plot markers on top of the heatmap."
   ]
  },
  {
   "cell_type": "code",
   "execution_count": null,
   "metadata": {},
   "outputs": [],
   "source": []
  },
  {
   "cell_type": "code",
   "execution_count": null,
   "metadata": {},
   "outputs": [],
   "source": []
  },
  {
   "cell_type": "code",
   "execution_count": 5,
   "metadata": {
    "scrolled": true
   },
   "outputs": [
    {
     "name": "stdout",
     "output_type": "stream",
     "text": [
      "Missing field/result... skipping.\n",
      "Missing field/result... skipping.\n",
      "Missing field/result... skipping.\n"
     ]
    }
   ],
   "source": [
    "# Iterate through the DataFrame and get the hotel name within the specified parameters for the cities with good weather\n",
    "\n",
    "for index, row in my_good_weather_cities_df.iterrows():\n",
    "    # get lat, lng from df\n",
    "    lat = row[\"Lat\"]\n",
    "    lng = row[\"Lng\"]\n",
    "\n",
    "    params = {\n",
    "        \"location\": f\"{lat},{lng}\",\n",
    "        \"radius\": 5000,\n",
    "        # \"type\": \"hotel\",\n",
    "        \"keyword\": \"hotel\",\n",
    "        \"key\": g_key\n",
    "    }\n",
    "   \n",
    "    base_url = \"https://maps.googleapis.com/maps/api/place/nearbysearch/json\"\n",
    "    response = requests.get(base_url, params=params)\n",
    "    response_json = response.json()\n",
    "  \n",
    "    try:\n",
    "        my_good_weather_cities_df.loc[index, \"Hotel Name\"] = response_json[\"results\"][0][\"name\"]\n",
    "    except (KeyError, IndexError):\n",
    "        print(\"Missing field/result... skipping.\")\n"
   ]
  },
  {
   "cell_type": "code",
   "execution_count": 6,
   "metadata": {},
   "outputs": [
    {
     "data": {
      "text/html": [
       "<div>\n",
       "<style scoped>\n",
       "    .dataframe tbody tr th:only-of-type {\n",
       "        vertical-align: middle;\n",
       "    }\n",
       "\n",
       "    .dataframe tbody tr th {\n",
       "        vertical-align: top;\n",
       "    }\n",
       "\n",
       "    .dataframe thead th {\n",
       "        text-align: right;\n",
       "    }\n",
       "</style>\n",
       "<table border=\"1\" class=\"dataframe\">\n",
       "  <thead>\n",
       "    <tr style=\"text-align: right;\">\n",
       "      <th></th>\n",
       "      <th>City</th>\n",
       "      <th>Cloudiness</th>\n",
       "      <th>Country</th>\n",
       "      <th>Date</th>\n",
       "      <th>Humidity</th>\n",
       "      <th>Lat</th>\n",
       "      <th>Lng</th>\n",
       "      <th>Max Temp</th>\n",
       "      <th>Wind Speed</th>\n",
       "      <th>Hotel Name</th>\n",
       "    </tr>\n",
       "  </thead>\n",
       "  <tbody>\n",
       "    <tr>\n",
       "      <td>0</td>\n",
       "      <td>Itararé</td>\n",
       "      <td>0</td>\n",
       "      <td>BR</td>\n",
       "      <td>1583974115</td>\n",
       "      <td>91</td>\n",
       "      <td>-24.11</td>\n",
       "      <td>-49.33</td>\n",
       "      <td>72.00</td>\n",
       "      <td>5.99</td>\n",
       "      <td>Hospedaria Frei Caneca</td>\n",
       "    </tr>\n",
       "    <tr>\n",
       "      <td>1</td>\n",
       "      <td>Inhambane</td>\n",
       "      <td>0</td>\n",
       "      <td>MZ</td>\n",
       "      <td>1583974212</td>\n",
       "      <td>76</td>\n",
       "      <td>-23.86</td>\n",
       "      <td>35.38</td>\n",
       "      <td>77.40</td>\n",
       "      <td>6.44</td>\n",
       "      <td>Hotel Casa Do Capitao</td>\n",
       "    </tr>\n",
       "    <tr>\n",
       "      <td>2</td>\n",
       "      <td>Quang Ngai</td>\n",
       "      <td>0</td>\n",
       "      <td>VN</td>\n",
       "      <td>1583974223</td>\n",
       "      <td>79</td>\n",
       "      <td>15.12</td>\n",
       "      <td>108.80</td>\n",
       "      <td>74.39</td>\n",
       "      <td>4.85</td>\n",
       "      <td>Thien An Riverside Hotel</td>\n",
       "    </tr>\n",
       "    <tr>\n",
       "      <td>4</td>\n",
       "      <td>Phayuha Khiri</td>\n",
       "      <td>0</td>\n",
       "      <td>TH</td>\n",
       "      <td>1583974447</td>\n",
       "      <td>68</td>\n",
       "      <td>15.46</td>\n",
       "      <td>100.14</td>\n",
       "      <td>79.03</td>\n",
       "      <td>7.54</td>\n",
       "      <td>Chao Phraya Home</td>\n",
       "    </tr>\n",
       "    <tr>\n",
       "      <td>5</td>\n",
       "      <td>Kānkon</td>\n",
       "      <td>0</td>\n",
       "      <td>IN</td>\n",
       "      <td>1583974464</td>\n",
       "      <td>83</td>\n",
       "      <td>15.02</td>\n",
       "      <td>74.02</td>\n",
       "      <td>73.40</td>\n",
       "      <td>4.70</td>\n",
       "      <td>The LaLiT Golf &amp; Spa Resort Goa</td>\n",
       "    </tr>\n",
       "  </tbody>\n",
       "</table>\n",
       "</div>"
      ],
      "text/plain": [
       "            City  Cloudiness Country        Date  Humidity    Lat     Lng  \\\n",
       "0        Itararé           0      BR  1583974115        91 -24.11  -49.33   \n",
       "1      Inhambane           0      MZ  1583974212        76 -23.86   35.38   \n",
       "2     Quang Ngai           0      VN  1583974223        79  15.12  108.80   \n",
       "4  Phayuha Khiri           0      TH  1583974447        68  15.46  100.14   \n",
       "5         Kānkon           0      IN  1583974464        83  15.02   74.02   \n",
       "\n",
       "   Max Temp  Wind Speed                       Hotel Name  \n",
       "0     72.00        5.99           Hospedaria Frei Caneca  \n",
       "1     77.40        6.44            Hotel Casa Do Capitao  \n",
       "2     74.39        4.85         Thien An Riverside Hotel  \n",
       "4     79.03        7.54                 Chao Phraya Home  \n",
       "5     73.40        4.70  The LaLiT Golf & Spa Resort Goa  "
      ]
     },
     "execution_count": 6,
     "metadata": {},
     "output_type": "execute_result"
    }
   ],
   "source": [
    "# Drop the rows which do not match all the criteria\n",
    "my_good_weather_cities_df = my_good_weather_cities_df.dropna(how='any')\n",
    "\n",
    "# Dispaly the top 5 rows of the DataFrame\n",
    "my_good_weather_cities_df.head()\n"
   ]
  },
  {
   "cell_type": "code",
   "execution_count": 7,
   "metadata": {},
   "outputs": [],
   "source": [
    "# NOTE: Do not change any of the code in this cell\n",
    "\n",
    "# Using the template add the hotel marks to the heatmap\n",
    "info_box_template = \"\"\"\n",
    "<dl>\n",
    "<dt>Name</dt><dd>{Hotel Name}</dd>\n",
    "<dt>City</dt><dd>{City}</dd>\n",
    "<dt>Country</dt><dd>{Country}</dd>\n",
    "</dl>\n",
    "\"\"\"\n",
    "# Store the DataFrame Row\n",
    "# NOTE: be sure to update with your DataFrame name\n",
    "hotel_info = [info_box_template.format(**row) for index, row in my_good_weather_cities_df.iterrows()]\n",
    "locations = my_good_weather_cities_df[[\"Lat\", \"Lng\"]]\n"
   ]
  },
  {
   "cell_type": "code",
   "execution_count": null,
   "metadata": {},
   "outputs": [],
   "source": []
  },
  {
   "cell_type": "code",
   "execution_count": 8,
   "metadata": {},
   "outputs": [
    {
     "data": {
      "application/vnd.jupyter.widget-view+json": {
       "model_id": "447c29e97ad2470a8e562fbec5ff6ee0",
       "version_major": 2,
       "version_minor": 0
      },
      "text/plain": [
       "Figure(layout=FigureLayout(height='420px'))"
      ]
     },
     "metadata": {},
     "output_type": "display_data"
    }
   ],
   "source": [
    "# Add marker layer on top of heat map\n",
    "hotel_name = my_good_weather_cities_df[\"Hotel Name\"].tolist()\n",
    "hotel_city = my_good_weather_cities_df[\"City\"].tolist()\n",
    "hotel_info = [hotel_name, hotel_city]\n",
    "locations = my_good_weather_cities_df[[\"Lat\", \"Lng\"]]\n",
    "\n",
    "# Assign the marker layer to a variable\n",
    "markers = gmaps.marker_layer(locations, info_box_content=[f\"Name: {name}\" for name in hotel_info[0]])\n",
    "\n",
    "# Add the layer to the map\n",
    "fig.add_layer(markers)\n",
    "fig\n",
    "\n",
    "\n"
   ]
  },
  {
   "cell_type": "code",
   "execution_count": null,
   "metadata": {},
   "outputs": [],
   "source": []
  }
 ],
 "metadata": {
  "kernelspec": {
   "display_name": "Python 3",
   "language": "python",
   "name": "python3"
  },
  "language_info": {
   "codemirror_mode": {
    "name": "ipython",
    "version": 3
   },
   "file_extension": ".py",
   "mimetype": "text/x-python",
   "name": "python",
   "nbconvert_exporter": "python",
   "pygments_lexer": "ipython3",
   "version": "3.7.4"
  },
  "latex_envs": {
   "LaTeX_envs_menu_present": true,
   "autoclose": false,
   "autocomplete": true,
   "bibliofile": "biblio.bib",
   "cite_by": "apalike",
   "current_citInitial": 1,
   "eqLabelWithNumbers": true,
   "eqNumInitial": 1,
   "hotkeys": {
    "equation": "Ctrl-E",
    "itemize": "Ctrl-I"
   },
   "labels_anchors": false,
   "latex_user_defs": false,
   "report_style_numbering": false,
   "user_envs_cfg": false
  }
 },
 "nbformat": 4,
 "nbformat_minor": 2
}
